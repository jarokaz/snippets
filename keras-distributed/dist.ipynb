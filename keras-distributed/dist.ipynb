{
 "cells": [
  {
   "cell_type": "code",
   "execution_count": 4,
   "metadata": {},
   "outputs": [],
   "source": [
    "import tensorflow as tf\n",
    "from tensorflow.python.framework.ops import disable_eager_execution\n",
    "import numpy as np\n",
    "from tensorflow import keras\n",
    "from tensorflow.keras import layers\n",
    "\n",
    "#disable_eager_execution()"
   ]
  },
  {
   "cell_type": "code",
   "execution_count": null,
   "metadata": {},
   "outputs": [],
   "source": []
  },
  {
   "cell_type": "code",
   "execution_count": 11,
   "metadata": {},
   "outputs": [],
   "source": [
    "batch_size = 1\n",
    "time_step = 5\n",
    "signal_length = 3\n",
    "sequences = np.random.rand(batch_size, time_step, 1)\n",
    "seq_lengths = np.array([signal_length]*batch_size)\n",
    "signal_mask = np.random.randint(5, size=(batch_size, time_step))\n",
    "\n",
    "    \n"
   ]
  },
  {
   "cell_type": "code",
   "execution_count": 12,
   "metadata": {},
   "outputs": [],
   "source": [
    "dataset = tf.data.Dataset.from_tensor_slices(((sequences, seq_lengths),  signal_mask)).repeat(10).batch(2)\n",
    "batch, _ = next(iter(dataset))"
   ]
  },
  {
   "cell_type": "code",
   "execution_count": 13,
   "metadata": {},
   "outputs": [
    {
     "data": {
      "text/plain": [
       "<tf.Tensor: shape=(2, 5, 1), dtype=float64, numpy=\n",
       "array([[[0.35912527],\n",
       "        [0.6299836 ],\n",
       "        [0.17180507],\n",
       "        [0.34914738],\n",
       "        [0.1625943 ]],\n",
       "\n",
       "       [[0.35912527],\n",
       "        [0.6299836 ],\n",
       "        [0.17180507],\n",
       "        [0.34914738],\n",
       "        [0.1625943 ]]])>"
      ]
     },
     "execution_count": 13,
     "metadata": {},
     "output_type": "execute_result"
    }
   ],
   "source": [
    "x = batch[0]\n",
    "x"
   ]
  },
  {
   "cell_type": "code",
   "execution_count": null,
   "metadata": {},
   "outputs": [],
   "source": []
  },
  {
   "cell_type": "code",
   "execution_count": 14,
   "metadata": {},
   "outputs": [],
   "source": [
    "conv = layers.Conv1D(32, 3, strides=1, padding='same', activation='relu')\n",
    "#masked = layers.Masking(mask_value=0)"
   ]
  },
  {
   "cell_type": "code",
   "execution_count": null,
   "metadata": {},
   "outputs": [],
   "source": []
  },
  {
   "cell_type": "code",
   "execution_count": null,
   "metadata": {},
   "outputs": [],
   "source": []
  },
  {
   "cell_type": "code",
   "execution_count": 15,
   "metadata": {},
   "outputs": [
    {
     "name": "stdout",
     "output_type": "stream",
     "text": [
      "WARNING:tensorflow:Layer conv1d_1 is casting an input tensor from dtype float64 to the layer's dtype of float32, which is new behavior in TensorFlow 2.  The layer has dtype float32 because its dtype defaults to floatx.\n",
      "\n",
      "If you intended to run this layer in float32, you can safely ignore this warning. If in doubt, this warning is likely only an issue if you are porting a TensorFlow 1.X model to TensorFlow 2.\n",
      "\n",
      "To change all layers to have dtype float64 by default, call `tf.keras.backend.set_floatx('float64')`. To change just this layer, pass dtype='float64' to the layer constructor. If you are the author of this layer, you can disable autocasting by passing autocast=False to the base Layer constructor.\n",
      "\n"
     ]
    },
    {
     "data": {
      "text/plain": [
       "<tf.Tensor: shape=(2, 5, 32), dtype=float32, numpy=\n",
       "array([[[0.        , 0.        , 0.        , 0.01264762, 0.        ,\n",
       "         0.01272679, 0.13099056, 0.07797258, 0.15831651, 0.18113688,\n",
       "         0.01516803, 0.04307875, 0.        , 0.        , 0.        ,\n",
       "         0.10110074, 0.02121873, 0.        , 0.11789553, 0.        ,\n",
       "         0.07170302, 0.        , 0.08771796, 0.03895834, 0.12965615,\n",
       "         0.        , 0.01667519, 0.        , 0.04554652, 0.02077863,\n",
       "         0.05445584, 0.2026338 ],\n",
       "        [0.05430221, 0.        , 0.        , 0.03236622, 0.        ,\n",
       "         0.        , 0.14047867, 0.05656818, 0.14380452, 0.16455247,\n",
       "         0.        , 0.06488179, 0.        , 0.        , 0.01768948,\n",
       "         0.1773797 , 0.1886166 , 0.        , 0.17743854, 0.01033514,\n",
       "         0.04733446, 0.07556552, 0.08676696, 0.        , 0.00891674,\n",
       "         0.04602535, 0.08088142, 0.        , 0.11517064, 0.        ,\n",
       "         0.        , 0.14350991],\n",
       "        [0.00754514, 0.04775027, 0.        , 0.        , 0.01719143,\n",
       "         0.11908357, 0.21943358, 0.11891662, 0.14867486, 0.15919232,\n",
       "         0.        , 0.04179119, 0.        , 0.10443259, 0.05286216,\n",
       "         0.16250773, 0.15410583, 0.03858589, 0.13574046, 0.04995331,\n",
       "         0.        , 0.        , 0.0940541 , 0.        , 0.01173994,\n",
       "         0.        , 0.        , 0.        , 0.06757397, 0.00608111,\n",
       "         0.        , 0.06258582],\n",
       "        [0.02471337, 0.        , 0.        , 0.01741321, 0.        ,\n",
       "         0.        , 0.08399695, 0.03698589, 0.08923362, 0.10212738,\n",
       "         0.        , 0.03668866, 0.        , 0.        , 0.        ,\n",
       "         0.09807549, 0.09330042, 0.        , 0.10030366, 0.        ,\n",
       "         0.03216594, 0.03547399, 0.05283459, 0.        , 0.02084098,\n",
       "         0.01364957, 0.04117383, 0.        , 0.06118755, 0.        ,\n",
       "         0.        , 0.09492745],\n",
       "        [0.02371255, 0.0372273 , 0.        , 0.        , 0.        ,\n",
       "         0.03908581, 0.08821019, 0.03940824, 0.05515276, 0.05907949,\n",
       "         0.        , 0.02385707, 0.01413137, 0.05726648, 0.05833811,\n",
       "         0.08792716, 0.11188714, 0.04697201, 0.07313976, 0.03809015,\n",
       "         0.        , 0.02637215, 0.03717092, 0.        , 0.        ,\n",
       "         0.01433625, 0.00951369, 0.        , 0.04897224, 0.        ,\n",
       "         0.        , 0.01027933]],\n",
       "\n",
       "       [[0.        , 0.        , 0.        , 0.01264762, 0.        ,\n",
       "         0.01272679, 0.13099056, 0.07797258, 0.15831651, 0.18113688,\n",
       "         0.01516803, 0.04307875, 0.        , 0.        , 0.        ,\n",
       "         0.10110074, 0.02121873, 0.        , 0.11789553, 0.        ,\n",
       "         0.07170302, 0.        , 0.08771796, 0.03895834, 0.12965615,\n",
       "         0.        , 0.01667519, 0.        , 0.04554652, 0.02077863,\n",
       "         0.05445584, 0.2026338 ],\n",
       "        [0.05430221, 0.        , 0.        , 0.03236622, 0.        ,\n",
       "         0.        , 0.14047867, 0.05656818, 0.14380452, 0.16455247,\n",
       "         0.        , 0.06488179, 0.        , 0.        , 0.01768948,\n",
       "         0.1773797 , 0.1886166 , 0.        , 0.17743854, 0.01033514,\n",
       "         0.04733446, 0.07556552, 0.08676696, 0.        , 0.00891674,\n",
       "         0.04602535, 0.08088142, 0.        , 0.11517064, 0.        ,\n",
       "         0.        , 0.14350991],\n",
       "        [0.00754514, 0.04775027, 0.        , 0.        , 0.01719143,\n",
       "         0.11908357, 0.21943358, 0.11891662, 0.14867486, 0.15919232,\n",
       "         0.        , 0.04179119, 0.        , 0.10443259, 0.05286216,\n",
       "         0.16250773, 0.15410583, 0.03858589, 0.13574046, 0.04995331,\n",
       "         0.        , 0.        , 0.0940541 , 0.        , 0.01173994,\n",
       "         0.        , 0.        , 0.        , 0.06757397, 0.00608111,\n",
       "         0.        , 0.06258582],\n",
       "        [0.02471337, 0.        , 0.        , 0.01741321, 0.        ,\n",
       "         0.        , 0.08399695, 0.03698589, 0.08923362, 0.10212738,\n",
       "         0.        , 0.03668866, 0.        , 0.        , 0.        ,\n",
       "         0.09807549, 0.09330042, 0.        , 0.10030366, 0.        ,\n",
       "         0.03216594, 0.03547399, 0.05283459, 0.        , 0.02084098,\n",
       "         0.01364957, 0.04117383, 0.        , 0.06118755, 0.        ,\n",
       "         0.        , 0.09492745],\n",
       "        [0.02371255, 0.0372273 , 0.        , 0.        , 0.        ,\n",
       "         0.03908581, 0.08821019, 0.03940824, 0.05515276, 0.05907949,\n",
       "         0.        , 0.02385707, 0.01413137, 0.05726648, 0.05833811,\n",
       "         0.08792716, 0.11188714, 0.04697201, 0.07313976, 0.03809015,\n",
       "         0.        , 0.02637215, 0.03717092, 0.        , 0.        ,\n",
       "         0.01433625, 0.00951369, 0.        , 0.04897224, 0.        ,\n",
       "         0.        , 0.01027933]]], dtype=float32)>"
      ]
     },
     "execution_count": 15,
     "metadata": {},
     "output_type": "execute_result"
    }
   ],
   "source": [
    "x1 = conv(x)\n",
    "x1"
   ]
  },
  {
   "cell_type": "code",
   "execution_count": 24,
   "metadata": {},
   "outputs": [
    {
     "data": {
      "text/plain": [
       "<tf.Tensor: shape=(1, 5), dtype=bool, numpy=array([[ True,  True,  True,  True,  True]])>"
      ]
     },
     "execution_count": 24,
     "metadata": {},
     "output_type": "execute_result"
    }
   ],
   "source": [
    "x2 = masked(x1)\n",
    "x2._keras_mask"
   ]
  },
  {
   "cell_type": "code",
   "execution_count": 4,
   "metadata": {},
   "outputs": [
    {
     "name": "stdout",
     "output_type": "stream",
     "text": [
      "INFO:tensorflow:Using MirroredStrategy with devices ('/device:GPU:0', '/device:GPU:1')\n",
      "INFO:tensorflow:Single-worker MultiWorkerMirroredStrategy with local_devices = ('/device:GPU:0', '/device:GPU:1'), communication = CollectiveCommunication.AUTO\n",
      "Model: \"functional_1\"\n",
      "__________________________________________________________________________________________________\n",
      "Layer (type)                    Output Shape         Param #     Connected to                     \n",
      "==================================================================================================\n",
      "seq_data (InputLayer)           [(None, None, 1)]    0                                            \n",
      "__________________________________________________________________________________________________\n",
      "conv1d (Conv1D)                 (None, None, 32)     128         seq_data[0][0]                   \n",
      "__________________________________________________________________________________________________\n",
      "masking (Masking)               (None, None, 32)     0           conv1d[0][0]                     \n",
      "__________________________________________________________________________________________________\n",
      "bidirectional (Bidirectional)   (None, None, 64)     12672       masking[0][0]                    \n",
      "__________________________________________________________________________________________________\n",
      "seq_lengths (InputLayer)        [(None,)]            0                                            \n",
      "__________________________________________________________________________________________________\n",
      "signal_mask (Dense)             (None, None, 5)      325         bidirectional[0][0]              \n",
      "==================================================================================================\n",
      "Total params: 13,125\n",
      "Trainable params: 13,125\n",
      "Non-trainable params: 0\n",
      "__________________________________________________________________________________________________\n",
      "None\n"
     ]
    },
    {
     "data": {
      "image/png": "[encoded data removed]",
      "text/plain": [
       "<IPython.core.display.Image object>"
      ]
     },
     "execution_count": 4,
     "metadata": {},
     "output_type": "execute_result"
    }
   ],
   "source": [
    "def model2(mask_value):\n",
    "    mirrored_strategy = tf.distribute.experimental.MultiWorkerMirroredStrategy()\n",
    "                        \n",
    "    with mirrored_strategy.scope():\n",
    "        seq_data = keras.Input(shape=(None, 1),  name=\"seq_data\")\n",
    "        seq_lengths = keras.Input(shape=(), name=\"seq_lengths\", dtype=tf.int32)\n",
    "\n",
    "        #mask = keras.layers.Lambda(lambda x: tf.sequence_mask(x))(seq_lengths)\n",
    "        conv = layers.Conv1D(32, 3, strides=1, padding='same', activation='relu')(seq_data)\n",
    "        #rnn = layers.Bidirectional(layers.GRU(32, return_sequences=True))(conv,mask=mask)\n",
    "        masked = layers.Masking(mask_value=mask_value)(conv)\n",
    "        rnn = layers.Bidirectional(layers.GRU(32, return_sequences=True))(masked)\n",
    "        dense = layers.Dense(5, name=\"signal_mask\")(rnn)\n",
    "        model = keras.Model(inputs=[seq_data, seq_lengths], outputs=[dense])\n",
    "\n",
    "        model.compile(optimizer=tf.keras.optimizers.Adam(\n",
    "            learning_rate=0.001),\n",
    "            loss=tf.keras.backend.sparse_categorical_crossentropy\n",
    "        )\n",
    "    \n",
    "    return model\n",
    "\n",
    "model2 = model2(0.0)\n",
    "print(model2.summary())\n",
    "dot_img_file = 'model_2.png'\n",
    "tf.keras.utils.plot_model(model2, to_file=dot_img_file, show_shapes=True)"
   ]
  },
  {
   "cell_type": "code",
   "execution_count": null,
   "metadata": {},
   "outputs": [],
   "source": [
    "batch_size = 1\n",
    "time_step = 1000\n",
    "signal_length = 1000\n",
    "sequences = np.random.rand(batch_size, time_step, 1)\n",
    "seq_lengths = np.array([signal_length]*batch_size)\n",
    "signal_mask = np.random.randint(5, size=(batch_size, time_step))\n",
    "\n",
    "    \n",
    "dataset = tf.data.Dataset.from_tensor_slices(((sequences, seq_lengths),  signal_mask)).repeat(10).batch(1)\n",
    "\n",
    "\n",
    "model2.fit(dataset, epochs=1)"
   ]
  },
  {
   "cell_type": "code",
   "execution_count": null,
   "metadata": {},
   "outputs": [],
   "source": []
  },
  {
   "cell_type": "code",
   "execution_count": null,
   "metadata": {},
   "outputs": [],
   "source": [
    "batch_size = 1\n",
    "time_step = 6\n",
    "signal_length = 6\n",
    "sequences = np.random.rand(batch_size, time_step, 1)\n",
    "seq_lengths = np.array([signal_length]*batch_size)\n",
    "signal_mask = np.random.randint(5, size=(batch_size, time_step))\n",
    "\n",
    "    \n",
    "dataset = tf.data.Dataset.from_tensor_slices(((sequences, seq_lengths),  signal_mask)).repeat(10).batch(2)\n",
    "batch = next(iter(dataset))\n",
    "batch"
   ]
  },
  {
   "cell_type": "code",
   "execution_count": null,
   "metadata": {},
   "outputs": [],
   "source": []
  },
  {
   "cell_type": "code",
   "execution_count": null,
   "metadata": {},
   "outputs": [],
   "source": []
  },
  {
   "cell_type": "code",
   "execution_count": null,
   "metadata": {},
   "outputs": [],
   "source": []
  },
  {
   "cell_type": "code",
   "execution_count": null,
   "metadata": {},
   "outputs": [],
   "source": [
    "%%writefile config.yaml\n",
    "trainingInput:\n",
    "  scaleTier: CUSTOM\n",
    "  # Configure a master worker with 1 with K80 GPUs\n",
    "  masterType: n1-highcpu-16\n",
    "  masterConfig:\n",
    "    acceleratorConfig:\n",
    "      count: 2\n",
    "      type: NVIDIA_TESLA_K80\n",
    "  # Configure 1 worker(s), each with 2 K80\n",
    "  workerCount: 1\n",
    "  workerType: n1-highcpu-16\n",
    "  workerConfig:\n",
    "    acceleratorConfig:\n",
    "      count: 2\n",
    "      type: NVIDIA_TESLA_K80"
   ]
  },
  {
   "cell_type": "code",
   "execution_count": null,
   "metadata": {},
   "outputs": [],
   "source": [
    "%%bash\n",
    "\n",
    "now=$(date +\"%Y%m%d_%H%M%S\")\n",
    "JOB_NAME=\"multi_cpu_fashion_minst_$now\"\n",
    "\n",
    "gcloud ai-platform jobs submit training $JOB_NAME \\\n",
    "  --staging-bucket=gs://mlops-dev-workspace \\\n",
    "  --package-path=sample \\\n",
    "  --module-name=sample.model \\\n",
    "  --runtime-version=2.1 \\\n",
    "  --python-version=3.7 \\\n",
    "  --region=us-west1 \\\n",
    "  --config config.yaml\n",
    "  "
   ]
  },
  {
   "cell_type": "code",
   "execution_count": null,
   "metadata": {},
   "outputs": [],
   "source": [
    "!gcloud ai-platform jobs stream-logs multi_cpu_fashion_minst_20200805_040150"
   ]
  },
  {
   "cell_type": "code",
   "execution_count": null,
   "metadata": {},
   "outputs": [],
   "source": []
  }
 ],
 "metadata": {
  "environment": {
   "name": "tf2-2-2-gpu.2-2.m50",
   "type": "gcloud",
   "uri": "gcr.io/deeplearning-platform-release/tf2-2-2-gpu.2-2:m50"
  },
  "kernelspec": {
   "display_name": "Python 3",
   "language": "python",
   "name": "python3"
  },
  "language_info": {
   "codemirror_mode": {
    "name": "ipython",
    "version": 3
   },
   "file_extension": ".py",
   "mimetype": "text/x-python",
   "name": "python",
   "nbconvert_exporter": "python",
   "pygments_lexer": "ipython3",
   "version": "3.7.6"
  }
 },
 "nbformat": 4,
 "nbformat_minor": 4
}
